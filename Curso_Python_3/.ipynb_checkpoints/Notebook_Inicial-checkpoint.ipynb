{
 "cells": [
  {
   "cell_type": "markdown",
   "id": "d588bb44-c8db-4baa-a312-11498ac83cdb",
   "metadata": {},
   "source": [
    "Teste Jupyter Nootbook `a`"
   ]
  },
  {
   "cell_type": "code",
   "execution_count": 1,
   "id": "3391c216-f0a7-4b6d-9738-b077102cf97f",
   "metadata": {},
   "outputs": [
    {
     "data": {
      "text/plain": [
       "1"
      ]
     },
     "execution_count": 1,
     "metadata": {},
     "output_type": "execute_result"
    }
   ],
   "source": [
    "a = 1\n",
    "a"
   ]
  }
 ],
 "metadata": {
  "kernelspec": {
   "display_name": "Python 3 (ipykernel)",
   "language": "python",
   "name": "python3"
  },
  "language_info": {
   "codemirror_mode": {
    "name": "ipython",
    "version": 3
   },
   "file_extension": ".py",
   "mimetype": "text/x-python",
   "name": "python",
   "nbconvert_exporter": "python",
   "pygments_lexer": "ipython3",
   "version": "3.12.2"
  }
 },
 "nbformat": 4,
 "nbformat_minor": 5
}
